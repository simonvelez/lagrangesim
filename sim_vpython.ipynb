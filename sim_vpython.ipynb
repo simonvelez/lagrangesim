{
 "cells": [
  {
   "cell_type": "code",
   "execution_count": null,
   "metadata": {},
   "outputs": [
    {
     "data": {
      "text/html": [
       "<div id=\"glowscript\" class=\"glowscript\"></div>"
      ],
      "text/plain": [
       "<IPython.core.display.HTML object>"
      ]
     },
     "metadata": {},
     "output_type": "display_data"
    },
    {
     "data": {
      "application/javascript": "if (typeof Jupyter !== \"undefined\") { window.__context = { glowscript_container: $(\"#glowscript\").removeAttr(\"id\")};}else{ element.textContent = ' ';}",
      "text/plain": [
       "<IPython.core.display.Javascript object>"
      ]
     },
     "metadata": {},
     "output_type": "display_data"
    },
    {
     "data": {
      "text/html": [
       "<div id=\"glowscript\" class=\"glowscript\"></div>"
      ],
      "text/plain": [
       "<IPython.core.display.HTML object>"
      ]
     },
     "metadata": {},
     "output_type": "display_data"
    },
    {
     "data": {
      "application/javascript": "if (typeof Jupyter !== \"undefined\") { window.__context = { glowscript_container: $(\"#glowscript\").removeAttr(\"id\")};}else{ element.textContent = ' ';}",
      "text/plain": [
       "<IPython.core.display.Javascript object>"
      ]
     },
     "metadata": {},
     "output_type": "display_data"
    }
   ],
   "source": [
    "from vpython import *\n",
    "\n",
    "# Set up the scene\n",
    "scene = canvas(title=\"Ball on a Ramp\", width=800, height=600)\n",
    "\n",
    "# Define parameters\n",
    "ramp_length = 10  # Length of the ramp\n",
    "ramp_height = 3   # Height of the ramp\n",
    "ball_radius = 0.5 # Radius of the ball\n",
    "gravity = vector(0, -9.8, 0)  # Gravitational acceleration\n",
    "friction_coef = 0.1           # Coefficient of friction on the ramp\n",
    "\n",
    "# Create the ramp\n",
    "ramp = box(pos=vector(0, ramp_height/2, 0), size=vector(ramp_length, 0.2, 2), color=color.gray(0.5))\n",
    "ramp.rotate(angle=-atan(ramp_height / ramp_length), axis=vector(0, 0, 1), origin=vector(-ramp_length/2, 0, 0))\n",
    "\n",
    "# Create the ball\n",
    "ball = sphere(pos=vector(-ramp_length/2 + ball_radius, ramp_height + ball_radius, 0), radius=ball_radius, color=color.red)\n",
    "ball.velocity = vector(0, 0, 0)  # Initial velocity\n",
    "\n",
    "# Calculate the direction of the ramp's surface\n",
    "ramp_angle = atan(ramp_height / ramp_length)\n",
    "ramp_direction = vector(cos(ramp_angle), -sin(ramp_angle), 0)\n",
    "\n",
    "# Time step for the simulation\n",
    "dt = 0.01\n",
    "\n",
    "# Simulation loop\n",
    "while ball.pos.x < ramp_length / 2 - ball_radius:\n",
    "    rate(100)  # Limit the simulation speed\n",
    "\n",
    "    # Calculate the component of gravity along the ramp\n",
    "    gravity_along_ramp = gravity.dot(ramp_direction) * ramp_direction\n",
    "\n",
    "    # Calculate friction force (opposite to direction of motion)\n",
    "    friction = -friction_coef * mag(gravity_along_ramp) * norm(ball.velocity) if mag(ball.velocity) > 0 else vector(0, 0, 0)\n",
    "\n",
    "    # Update velocity and position\n",
    "    ball.velocity += (gravity_along_ramp + friction) * dt\n",
    "    ball.pos += ball.velocity * dt\n"
   ]
  }
 ],
 "metadata": {
  "kernelspec": {
   "display_name": "Python 3",
   "language": "python",
   "name": "python3"
  },
  "language_info": {
   "codemirror_mode": {
    "name": "ipython",
    "version": 3
   },
   "file_extension": ".py",
   "mimetype": "text/x-python",
   "name": "python",
   "nbconvert_exporter": "python",
   "pygments_lexer": "ipython3",
   "version": "3.11.2"
  }
 },
 "nbformat": 4,
 "nbformat_minor": 2
}
